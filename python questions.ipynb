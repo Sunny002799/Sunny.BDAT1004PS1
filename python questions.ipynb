{
 "cells": [
  {
   "cell_type": "code",
   "execution_count": 3,
   "id": "8b3351ba",
   "metadata": {},
   "outputs": [
    {
     "name": "stdout",
     "output_type": "stream",
     "text": [
      "appyhay\n",
      "enterway\n"
     ]
    }
   ],
   "source": [
    "##Question 6\n",
    "def pig(word):\n",
    "   vowel = 'aeiou'\n",
    "\n",
    "   if word[0].lower() in vowel:\n",
    "       s = 'way'\n",
    "       word = word + s\n",
    "       print(word.lower())\n",
    "   else:\n",
    "       s = 'ay'\n",
    "       word = word[1:] + word[0] +  s\n",
    "       print(word.lower())\n",
    "\n",
    "\n",
    "pig(\"Happy\")\n",
    "pig(\"Enter\")\n",
    "\n"
   ]
  },
  {
   "cell_type": "code",
   "execution_count": 1,
   "id": "fd087aea",
   "metadata": {},
   "outputs": [
    {
     "name": "stdout",
     "output_type": "stream",
     "text": [
      "There are 13 patients of blood type of AB.\n",
      "There are 1 patients of blood type of B.\n",
      "There are 15 patients of blood type of O.\n",
      "There are 15 patients of blood type of A.\n"
     ]
    }
   ],
   "source": [
    "##Question 7\n",
    "mydict={}\n",
    "file=open('blood.txt','r')\n",
    "file=file.readlines()\n",
    "str=file[0]\n",
    "\n",
    "str = str.split(\" \")\n",
    "\n",
    "\n",
    "for value in str:\n",
    "\n",
    "    if value in mydict:\n",
    "        kValue = mydict.get(value)\n",
    "        kValue=kValue+1\n",
    "        mydict.update({value:kValue})\n",
    "    \n",
    "    else:\n",
    "        \n",
    "        mydict.update({value:1})\n",
    "        \n",
    "\n",
    "\n",
    "for myValues in mydict:\n",
    "    \n",
    "    print(f\"There are {mydict.get(myValues)} patients of blood type of {myValues}.\")\n",
    "\n",
    "\n",
    "\n",
    "    \n",
    "    "
   ]
  },
  {
   "cell_type": "code",
   "execution_count": 39,
   "id": "1e6817f5",
   "metadata": {},
   "outputs": [
    {
     "data": {
      "text/plain": [
       "122.96544"
      ]
     },
     "execution_count": 39,
     "metadata": {},
     "output_type": "execute_result"
    }
   ],
   "source": [
    "##Question 8\n",
    "with open(\"curriencesvalue.txt\",'r') as f:\n",
    "    file=f.readlines()\n",
    "\n",
    "\n",
    "\n",
    "\n",
    "for x in file:\n",
    "    currency=x[0:3]\n",
    "    value = x[4:13]\n",
    "    mydict.update({currency:value})\n",
    "\n",
    "\n",
    "\n",
    "\n",
    "\n",
    "def corcon(curr,amt):\n",
    "    cvalue=float(mydict[curr])\n",
    "    return cvalue*amt\n",
    "curr = \"EUR\"\n",
    "amt = 100\n",
    "corcon(curr,amt)\n",
    "\n",
    "\n"
   ]
  },
  {
   "cell_type": "code",
   "execution_count": 40,
   "id": "4e1dbf3f",
   "metadata": {},
   "outputs": [
    {
     "ename": "SyntaxError",
     "evalue": "invalid character '‘' (U+2018) (1633775162.py, line 2)",
     "output_type": "error",
     "traceback": [
      "\u001b[1;36m  Input \u001b[1;32mIn [40]\u001b[1;36m\u001b[0m\n\u001b[1;33m    print(6 + ‘a’)#  6 is an integer and 'a' is an  character that's why it is showing an error\u001b[0m\n\u001b[1;37m              ^\u001b[0m\n\u001b[1;31mSyntaxError\u001b[0m\u001b[1;31m:\u001b[0m invalid character '‘' (U+2018)\n"
     ]
    }
   ],
   "source": [
    "##Question 9\n",
    "print(6 + ‘a’)#  6 is an integer and 'a' is an  character that's why it is showing an error\n",
    "my_list = [1,2,3,4,5,6,7,8,9,10]\n",
    "print(my_list[11])# The my_list has only 10 items that's why it is showing index out of range error\n",
    "import math\n",
    "print(math.sqrt(-1.0))# Minus value can't have a square root value that's why it is giving math domain error\n",
    "print(x)# as x is not declared it is giving an not defined error\n",
    "file = open(\"sunny\")# sunny name file does not exist that's why it is showing an error of no such file\n",
    "\n",
    "\n",
    "\n",
    "\n"
   ]
  },
  {
   "cell_type": "code",
   "execution_count": 31,
   "id": "a56a6ff5",
   "metadata": {},
   "outputs": [
    {
     "name": "stdout",
     "output_type": "stream",
     "text": [
      "Number of times each character appear in  apple is : {'a': 1, 'p': 2, 'l': 1, 'e': 1}\n"
     ]
    }
   ],
   "source": [
    "#Question 10\n",
    "my_str = \"apple\"\n",
    "my_dict = {}\n",
    "for i in my_str:\n",
    "    if i in my_dict:\n",
    "        my_dict[i] += 1\n",
    "    else:\n",
    "        my_dict[i] = 1\n",
    "print (\"Number of times each character appear in  apple is : \"\n",
    "                                        +  str(my_dict))"
   ]
  },
  {
   "cell_type": "code",
   "execution_count": null,
   "id": "f401a59e",
   "metadata": {},
   "outputs": [],
   "source": []
  }
 ],
 "metadata": {
  "kernelspec": {
   "display_name": "Python 3 (ipykernel)",
   "language": "python",
   "name": "python3"
  },
  "language_info": {
   "codemirror_mode": {
    "name": "ipython",
    "version": 3
   },
   "file_extension": ".py",
   "mimetype": "text/x-python",
   "name": "python",
   "nbconvert_exporter": "python",
   "pygments_lexer": "ipython3",
   "version": "3.9.12"
  }
 },
 "nbformat": 4,
 "nbformat_minor": 5
}
